{
 "cells": [
  {
   "cell_type": "markdown",
   "id": "709f4e31",
   "metadata": {},
   "source": [
    "# Conv2D implementation of the Inner speech dataset"
   ]
  },
  {
   "cell_type": "code",
   "execution_count": 1,
   "id": "0e8f6aac",
   "metadata": {},
   "outputs": [],
   "source": [
    "import os\n",
    "import random\n",
    "import warnings\n",
    "import numpy as np\n",
    "import pandas as pd\n",
    "import matplotlib.pyplot as plt\n",
    "\n",
    "np.random.seed(23)\n",
    "\n",
    "warnings.filterwarnings(action = \"ignore\", category = DeprecationWarning )\n",
    "warnings.filterwarnings(action = \"ignore\", category = FutureWarning )"
   ]
  },
  {
   "cell_type": "code",
   "execution_count": 2,
   "id": "48055718",
   "metadata": {},
   "outputs": [
    {
     "name": "stdout",
     "output_type": "stream",
     "text": [
      "The shape of the X_train x Y_train  (1799, 128, 512)  x  (1799,)\n",
      "The shape of the X_val x Y_val  (223, 128, 512)  x  (223,)\n",
      "CPU times: total: 484 ms\n",
      "Wall time: 1.42 s\n"
     ]
    }
   ],
   "source": [
    "%%time\n",
    "# The Storage variables with their respected names\n",
    "X_train =np.load('processed_data/X_train.npy')\n",
    "Y_train =np.load('processed_data/Y_train.npy')\n",
    "X_val = np.load('processed_data/X_val.npy')\n",
    "Y_val =np.load('processed_data/Y_val.npy')\n",
    "\n",
    "# Printing the shape\n",
    "print(\"The shape of the X_train x Y_train \", X_train.shape , \" x \",Y_train.shape)\n",
    "print(\"The shape of the X_val x Y_val \", X_val.shape , \" x \",Y_val.shape)\n"
   ]
  },
  {
   "cell_type": "markdown",
   "id": "21a7f6ef",
   "metadata": {},
   "source": [
    "## Applying CNN"
   ]
  },
  {
   "cell_type": "code",
   "execution_count": 3,
   "id": "34c86906",
   "metadata": {},
   "outputs": [],
   "source": [
    "import torch\n",
    "import torch.nn as nn"
   ]
  },
  {
   "cell_type": "code",
   "execution_count": 4,
   "id": "8b1acf1d",
   "metadata": {},
   "outputs": [
    {
     "data": {
      "text/plain": [
       "CNN(\n",
       "  (conv1): Conv2d(1, 32, kernel_size=(3, 3), stride=(1, 1), padding=(1, 1))\n",
       "  (relu): ReLU()\n",
       "  (maxpool): MaxPool2d(kernel_size=2, stride=2, padding=0, dilation=1, ceil_mode=False)\n",
       "  (fc): Linear(in_features=524288, out_features=4, bias=True)\n",
       ")"
      ]
     },
     "execution_count": 4,
     "metadata": {},
     "output_type": "execute_result"
    }
   ],
   "source": [
    "# Define model\n",
    "class CNN(nn.Module):\n",
    "    def __init__(self):\n",
    "        super(CNN, self).__init__()\n",
    "        self.conv1 = nn.Conv2d(1, 32, kernel_size=3, stride=1, padding=1)\n",
    "        self.relu = nn.ReLU()\n",
    "        self.maxpool = nn.MaxPool2d(kernel_size=2, stride=2)\n",
    "        self.fc = nn.Linear(32 * 64 * 256, 4)  # num_classes is the number of output classes\n",
    "\n",
    "    def forward(self, x):\n",
    "        x = self.conv1(x)\n",
    "        x = self.relu(x)\n",
    "        x = self.maxpool(x)\n",
    "        x = x.view(x.size(0), -1)  # Flatten the input\n",
    "        x = self.fc(x)\n",
    "        return x\n",
    "\n",
    "model = CNN()\n",
    "model"
   ]
  },
  {
   "cell_type": "code",
   "execution_count": 5,
   "id": "dfc39363",
   "metadata": {},
   "outputs": [
    {
     "name": "stdout",
     "output_type": "stream",
     "text": [
      "Using device: cuda\n"
     ]
    }
   ],
   "source": [
    "# Selecting Device\n",
    "device = torch.device('cuda' if torch.cuda.is_available() else 'cpu')\n",
    "model.to(device)\n",
    "print('Using device:', device)"
   ]
  },
  {
   "cell_type": "code",
   "execution_count": 6,
   "id": "42cfdcae",
   "metadata": {},
   "outputs": [],
   "source": [
    "# Unsqueezing and Flattening the dataset\n",
    "X_train_unsq = torch.from_numpy(X_train).unsqueeze(1).float().to(device)   # Add a channel dimension and convert to float tensor\n",
    "Y_train_flat = torch.from_numpy(Y_train).long().to(device)                 # Convert to long tensor"
   ]
  },
  {
   "cell_type": "code",
   "execution_count": 7,
   "id": "9323bfb2",
   "metadata": {},
   "outputs": [],
   "source": [
    "# Define loss function and optimizer\n",
    "criterion = nn.CrossEntropyLoss().to(device)\n",
    "optimizer = torch.optim.Adam(model.parameters(), lr=0.001)"
   ]
  },
  {
   "cell_type": "code",
   "execution_count": 8,
   "id": "cb2b8a58",
   "metadata": {},
   "outputs": [
    {
     "name": "stdout",
     "output_type": "stream",
     "text": [
      "Epoch [1/5], Loss: 4.9132\n",
      "Epoch [2/5], Loss: 3.0969\n",
      "Epoch [3/5], Loss: 1.5147\n",
      "Epoch [4/5], Loss: 0.3857\n",
      "Epoch [5/5], Loss: 0.4447\n",
      "Training complete!\n"
     ]
    }
   ],
   "source": [
    "batch_size = 32  # Adjust the batch size as per your GPU memory capacity\n",
    "accumulation_steps = 4  # Accumulate gradients over 4 batches before performing optimizer step\n",
    "num_batches = len(X_train_unsq) // batch_size\n",
    "num_epochs =5\n",
    "for epoch in range(num_epochs):\n",
    "    model.train()\n",
    "    optimizer.zero_grad()\n",
    "\n",
    "    for i in range(num_batches):\n",
    "        start = i * batch_size\n",
    "        end = (i + 1) * batch_size\n",
    "        inputs = X_train_unsq[start:end].to(device)\n",
    "        targets = Y_train_flat[start:end].to(device)\n",
    "\n",
    "        outputs = model(inputs)\n",
    "        loss = criterion(outputs, targets)\n",
    "        loss = loss / accumulation_steps  # Divide the loss by accumulation steps\n",
    "        loss.backward()\n",
    "\n",
    "        if (i + 1) % accumulation_steps == 0:\n",
    "            optimizer.step()\n",
    "            optimizer.zero_grad()\n",
    "    print(f\"Epoch [{epoch+1}/{num_epochs}], Loss: {loss.item():.4f}\")\n",
    "\n",
    "print(\"Training complete!\")"
   ]
  },
  {
   "cell_type": "code",
   "execution_count": null,
   "id": "10f3301a",
   "metadata": {
    "scrolled": true
   },
   "outputs": [],
   "source": [
    "## Training accuracy\n",
    "# Make prediction\n",
    "device = torch.device(\"cpu\")\n",
    "model.to(device)\n",
    "\n",
    "X_train_acc = torch.from_numpy(X_train).unsqueeze(1).float()[1:200].to(device)   # Add a channel dimension and convert to float tensor\n",
    "Y_train_acc = torch.from_numpy(Y_train).long()[1:200].to(device)                 # Convert to long tensor               \n",
    "\n",
    "model.eval()  # Set the model in evaluation mode\n",
    "with torch.no_grad():\n",
    "    outputs = model(X_train_acc.to(device))\n",
    "    _, predicted = torch.max(outputs.data, 1)  # Get the predicted classes\n",
    "\n",
    "correct = (predicted == Y_train_acc.to(device)).sum().item()\n",
    "accuracy = correct / len(predicted) * 100\n",
    "print(f\"Accuracy on test data: {accuracy:.2f}%\")"
   ]
  },
  {
   "cell_type": "markdown",
   "id": "9d6ec598",
   "metadata": {},
   "source": [
    "## Evaluating the model"
   ]
  },
  {
   "cell_type": "code",
   "execution_count": null,
   "id": "9cf94993",
   "metadata": {},
   "outputs": [],
   "source": [
    "X_val = torch.from_numpy(X_val).unsqueeze(1).float().to(device)   # Add a channel dimension and convert to float tensor\n",
    "Y_val = torch.from_numpy(Y_val).long().to(device)                 # Convert to long tensor      \n",
    "\n",
    "model.eval()  # Set the model in evaluation mode\n",
    "with torch.no_grad():\n",
    "    outputs = model(X_val.to(device))\n",
    "    _, predicted = torch.max(outputs.data, 1)  # Get the predicted classes\n",
    "\n",
    "correct = (predicted == Y_val.to(device)).sum().item()\n",
    "accuracy = correct / len(predicted) * 100\n",
    "print(f\"Accuracy on test data: {accuracy:.2f}%\")"
   ]
  },
  {
   "cell_type": "code",
   "execution_count": null,
   "id": "7eb5c050",
   "metadata": {},
   "outputs": [],
   "source": [
    "from sklearn.metrics import confusion_matrix\n",
    "\n",
    "cm = confusion_matrix(Y_val.numpy(), predicted.numpy())\n",
    "classes = [0,1,2,3]\n",
    "\n",
    "plt.figure(figsize=(10, 8))\n",
    "plt.imshow(cm, interpolation='nearest', cmap=plt.cm.Blues)\n",
    "plt.title('Confusion Matrix')\n",
    "plt.colorbar()\n",
    "tick_marks = np.arange(len(classes))\n",
    "plt.xticks(tick_marks, classes, rotation=45)\n",
    "plt.yticks(tick_marks, classes)\n",
    "\n",
    "fmt = '.2f'\n",
    "thresh = cm.max() / 2.\n",
    "for i in range(cm.shape[0]):\n",
    "    for j in range(cm.shape[1]):\n",
    "        plt.text(j, i, format(cm[i, j], fmt),\n",
    "                 horizontalalignment=\"center\",\n",
    "                 color=\"white\" if cm[i, j] > thresh else \"black\")\n",
    "\n",
    "plt.xlabel('Predicted label')\n",
    "plt.ylabel('True label')\n",
    "plt.tight_layout()\n",
    "plt.show()"
   ]
  }
 ],
 "metadata": {
  "kernelspec": {
   "display_name": "Python 3 (ipykernel)",
   "language": "python",
   "name": "python3"
  },
  "language_info": {
   "codemirror_mode": {
    "name": "ipython",
    "version": 3
   },
   "file_extension": ".py",
   "mimetype": "text/x-python",
   "name": "python",
   "nbconvert_exporter": "python",
   "pygments_lexer": "ipython3",
   "version": "3.10.9"
  },
  "varInspector": {
   "cols": {
    "lenName": 16,
    "lenType": 16,
    "lenVar": 40
   },
   "kernels_config": {
    "python": {
     "delete_cmd_postfix": "",
     "delete_cmd_prefix": "del ",
     "library": "var_list.py",
     "varRefreshCmd": "print(var_dic_list())"
    },
    "r": {
     "delete_cmd_postfix": ") ",
     "delete_cmd_prefix": "rm(",
     "library": "var_list.r",
     "varRefreshCmd": "cat(var_dic_list()) "
    }
   },
   "types_to_exclude": [
    "module",
    "function",
    "builtin_function_or_method",
    "instance",
    "_Feature"
   ],
   "window_display": false
  }
 },
 "nbformat": 4,
 "nbformat_minor": 5
}
