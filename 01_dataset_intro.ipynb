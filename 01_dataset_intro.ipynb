{
 "cells": [
  {
   "cell_type": "markdown",
   "id": "b666c3d6",
   "metadata": {},
   "source": [
    "# Dataset Introduction\n",
    "\n",
    "This notebook is trying to replicate the [Github Rebo](https://github.com/N-Nieto/Inner_Speech_Dataset) of the `Inner Speech Classification` Dataset. Maily the tutorial notebook.\n",
    "\n",
    "[Notebook Link](https://github.com/N-Nieto/Inner_Speech_Dataset/blob/main/Database_load_Tutorial.ipynb)"
   ]
  },
  {
   "cell_type": "code",
   "execution_count": null,
   "id": "5cb58602",
   "metadata": {},
   "outputs": [],
   "source": [
    "#  !git clone https://github.com/N-Nieto/Inner_Speech_Dataset -quit"
   ]
  },
  {
   "cell_type": "code",
   "execution_count": 1,
   "id": "06f8be6e",
   "metadata": {},
   "outputs": [],
   "source": [
    "import os\n",
    "import mne\n",
    "import pickle\n",
    "import random\n",
    "import warnings\n",
    "import numpy as np\n",
    "import matplotlib.pyplot as plt\n",
    "\n",
    "from Inner_Speech_Dataset.Python_Processing.Data_extractions import  Extract_data_from_subject\n",
    "from Inner_Speech_Dataset.Python_Processing.Data_processing import  Select_time_window, Transform_for_classificator, Split_trial_in_time\n",
    "\n",
    "np.random.seed(23)\n",
    "\n",
    "mne.set_log_level(verbose='warning') #to avoid info at terminal\n",
    "warnings.filterwarnings(action = \"ignore\", category = DeprecationWarning )\n",
    "warnings.filterwarnings(action = \"ignore\", category = FutureWarning )"
   ]
  },
  {
   "cell_type": "markdown",
   "id": "f9cb95ec",
   "metadata": {},
   "source": [
    "## Load Data"
   ]
  },
  {
   "cell_type": "code",
   "execution_count": 7,
   "id": "ad29ecad",
   "metadata": {},
   "outputs": [],
   "source": [
    "### Hyperparameters\n",
    "\n",
    "datatype = \"EEG\"     # Data Type\n",
    "fs = 256             # Sampling rate\n",
    "t_start = 1.5        # Select the useful par of each trial. Time in seconds\n",
    "t_end = 3.5\n",
    "N_S = 1              # Subject number [1 to 10]"
   ]
  },
  {
   "cell_type": "code",
   "execution_count": 8,
   "id": "e5add159",
   "metadata": {},
   "outputs": [
    {
     "name": "stdout",
     "output_type": "stream",
     "text": [
      "Data shape: [trials x channels x samples]\n",
      "(500, 128, 512)\n",
      "Labels shape\n",
      "(500, 4)\n"
     ]
    }
   ],
   "source": [
    "#@title Data extraction and processing\n",
    "# The root dir have to point to the folder that cointains the database\n",
    "root_dir = \"dataset/inner-speech-recognition\"\n",
    "\n",
    "# Load all trials for a sigle subject\n",
    "X, Y = Extract_data_from_subject(root_dir, N_S, datatype)\n",
    "\n",
    "# Cut usefull time. i.e action interval\n",
    "X = Select_time_window(X = X, t_start = t_start, t_end = t_end, fs = fs)\n",
    "\n",
    "\n",
    "print(\"Data shape: [trials x channels x samples]\")\n",
    "print(X.shape) # Trials, channels, samples\n",
    "\n",
    "print(\"Labels shape\")\n",
    "print(Y.shape) # Time stamp, class , condition, session"
   ]
  },
  {
   "cell_type": "markdown",
   "id": "e0882ad6",
   "metadata": {},
   "source": [
    "## Create the different groups for a classifier. A group is created with one condition and one class."
   ]
  },
  {
   "cell_type": "code",
   "execution_count": 10,
   "id": "8d5958c6",
   "metadata": {},
   "outputs": [
    {
     "name": "stdout",
     "output_type": "stream",
     "text": [
      "Final data shape:  (100, 128, 512)\n",
      "Final labels shape:  (100,)\n"
     ]
    }
   ],
   "source": [
    "Conditions = [[\"Inner\"],[\"Inner\"]]    # Conditions to compared\n",
    "Classes    = [  [\"Up\"] ,[\"Down\"] ]    # The class for the above condition\n",
    "\n",
    "# Transform data and keep only the trials of interes\n",
    "X , Y =  Transform_for_classificator(X, Y, Classes, Conditions)\n",
    "\n",
    "print(\"Final data shape: \",X.shape)\n",
    "print(\"Final labels shape: \",Y.shape)"
   ]
  },
  {
   "cell_type": "code",
   "execution_count": null,
   "id": "4d75bd96",
   "metadata": {},
   "outputs": [],
   "source": []
  },
  {
   "cell_type": "code",
   "execution_count": null,
   "id": "f9364caa",
   "metadata": {},
   "outputs": [],
   "source": []
  }
 ],
 "metadata": {
  "kernelspec": {
   "display_name": "Python 3 (ipykernel)",
   "language": "python",
   "name": "python3"
  },
  "language_info": {
   "codemirror_mode": {
    "name": "ipython",
    "version": 3
   },
   "file_extension": ".py",
   "mimetype": "text/x-python",
   "name": "python",
   "nbconvert_exporter": "python",
   "pygments_lexer": "ipython3",
   "version": "3.10.9"
  },
  "varInspector": {
   "cols": {
    "lenName": 16,
    "lenType": 16,
    "lenVar": 40
   },
   "kernels_config": {
    "python": {
     "delete_cmd_postfix": "",
     "delete_cmd_prefix": "del ",
     "library": "var_list.py",
     "varRefreshCmd": "print(var_dic_list())"
    },
    "r": {
     "delete_cmd_postfix": ") ",
     "delete_cmd_prefix": "rm(",
     "library": "var_list.r",
     "varRefreshCmd": "cat(var_dic_list()) "
    }
   },
   "types_to_exclude": [
    "module",
    "function",
    "builtin_function_or_method",
    "instance",
    "_Feature"
   ],
   "window_display": false
  }
 },
 "nbformat": 4,
 "nbformat_minor": 5
}
